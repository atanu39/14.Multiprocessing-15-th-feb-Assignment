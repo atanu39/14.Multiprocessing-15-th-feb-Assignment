{
 "cells": [
  {
   "cell_type": "markdown",
   "id": "fbf816fb-0719-4d62-970f-f4e162a6b2c4",
   "metadata": {},
   "source": [
    "# Q1. What is multiprocessing in python? Why is it useful?"
   ]
  },
  {
   "cell_type": "markdown",
   "id": "574eabee-960d-44e3-ba2f-92e88e688e37",
   "metadata": {},
   "source": [
    "# Ans :"
   ]
  },
  {
   "cell_type": "markdown",
   "id": "41656df6-6976-4962-b477-6bdc43cc78a3",
   "metadata": {},
   "source": [
    "Multiprocessing in Python is a technique of running multiple parallel processes in a single program. It allows you to utilize multiple CPU cores and distribute workload among them, which can significantly improve the performance of your program.\n",
    "\n",
    "In Python, the multiprocessing module provides a way to spawn child processes and communicate with them. This module allows you to write parallel code that runs on multiple CPUs without the need to manage threads or locks, which can be complicated and error-prone.\n",
    "\n",
    "The multiprocessing module provides several objects to support parallel computing, such as the Process class, which represents an independent process running in its own memory space, and the Queue class, which is a thread-safe way to exchange data between processes.\n",
    "\n",
    "Multiprocessing is particularly useful for computationally intensive tasks that can be broken down into smaller sub-tasks that can be executed independently. For example, you might use multiprocessing to perform complex calculations, process large amounts of data, or run multiple simulations in parallel.\n",
    "\n",
    "Overall, multiprocessing can help you to write more efficient and scalable Python programs, especially when dealing with large datasets or complex algorithms that require significant computational resources."
   ]
  },
  {
   "cell_type": "markdown",
   "id": "9249c335-2c73-4cb1-a2c3-9db3c44ad338",
   "metadata": {},
   "source": [
    "# Q2. What are the differences between multiprocessing and multithreading?"
   ]
  },
  {
   "cell_type": "markdown",
   "id": "2d7e377c-158b-4ae2-92b8-337a7bbe8903",
   "metadata": {},
   "source": [
    "# Ans :"
   ]
  },
  {
   "cell_type": "markdown",
   "id": "b79a840a-5376-409b-8487-030570598cbd",
   "metadata": {},
   "source": [
    "Multiprocessing and multithreading are both techniques for achieving parallelism in computer programs, but they work in different ways and have different benefits and drawbacks.\n",
    "\n",
    "Multiprocessing involves running multiple processes concurrently, where each process has its own memory space and runs on a separate CPU core. Processes can communicate with each other through inter-process communication (IPC) mechanisms like pipes, sockets, and shared memory. Multiprocessing is useful for parallelizing CPU-intensive tasks, as each process can execute on a separate core, but it has some overhead due to the need to manage multiple processes.\n",
    "\n",
    "Multithreading, on the other hand, involves running multiple threads within a single process, where each thread shares the same memory space as the other threads. Threads can communicate with each other directly, without the need for IPC mechanisms. Multithreading is useful for parallelizing I/O-bound tasks, such as reading and writing to files or network sockets, as multiple threads can run concurrently and perform I/O operations while waiting for other threads to finish. However, multithreading has some drawbacks, such as the potential for race conditions and deadlocks if shared resources are not managed carefully.\n",
    "\n",
    "Overall, the choice between multiprocessing and multithreading depends on the specific requirements of the program being developed. If the program is CPU-bound, with large amounts of computation required, then multiprocessing may be the best choice. If the program is I/O-bound, with a lot of waiting for external resources like disk or network I/O, then multithreading may be more appropriate. In some cases, a combination of both techniques may be used to achieve the best performance.\n"
   ]
  },
  {
   "cell_type": "markdown",
   "id": "8a5a88ec-5426-4a5d-8e96-6e2489abd083",
   "metadata": {},
   "source": [
    "# Q3. Write a python code to create a process using the multiprocessing module."
   ]
  },
  {
   "cell_type": "markdown",
   "id": "bd545a91-5329-4bde-9db6-98b5827cf1a1",
   "metadata": {},
   "source": [
    "# Ans :"
   ]
  },
  {
   "cell_type": "code",
   "execution_count": 1,
   "id": "6ee2a21e-6361-410c-b564-758b83dadbb9",
   "metadata": {},
   "outputs": [
    {
     "name": "stdout",
     "output_type": "stream",
     "text": [
      "This is a new process!\n"
     ]
    }
   ],
   "source": [
    "import multiprocessing\n",
    "\n",
    "def my_process():\n",
    "    print(\"This is a new process!\")\n",
    "\n",
    "if __name__ == '__main__':\n",
    "    p = multiprocessing.Process(target=my_process)\n",
    "    p.start()\n",
    "    p.join()\n"
   ]
  },
  {
   "cell_type": "markdown",
   "id": "373e793e-0df2-40e2-ae3d-ab8a82366671",
   "metadata": {},
   "source": [
    "In this code, we define a function my_process() that will be executed in a new process. We then use the Process class from the multiprocessing module to create a new process and assign it the my_process() function as its target. Finally, we start the process using the start() method and wait for it to complete using the join() method.\n",
    "\n",
    "Note that we wrap the code that creates the process in an if __name__ == '__main__': block. This is important to ensure that the code is only executed when the script is run as the main program, and not when it is imported as a module. This helps to avoid potential issues with creating multiple processes unintentionally."
   ]
  },
  {
   "cell_type": "markdown",
   "id": "4911d13d-7641-4f70-a0a7-ce23c674f440",
   "metadata": {},
   "source": [
    "# Q4. What is a multiprocessing pool in python? Why is it used?"
   ]
  },
  {
   "cell_type": "markdown",
   "id": "cfa821e6-32f0-43e1-9464-a02474fceb3c",
   "metadata": {},
   "source": [
    "# Ans :"
   ]
  },
  {
   "cell_type": "markdown",
   "id": "5e906e2a-f03e-4ad6-b020-1f384df85290",
   "metadata": {},
   "source": [
    "A multiprocessing pool in Python is a collection of worker processes that can be used to execute a function in parallel on multiple input values. The multiprocessing module provides a Pool class that makes it easy to create and manage a pool of worker processes.\n",
    "\n",
    "When a function is executed using a multiprocessing pool, the input values are divided into chunks and distributed among the worker processes in the pool. Each worker process executes the function on its assigned input values, and the results are collected and returned to the main process.\n",
    "\n",
    "Multiprocessing pools are useful when you have a function that needs to be applied to a large number of inputs and can be executed independently on each input value. By using a pool of worker processes, you can take advantage of multiple CPUs and parallelize the computation, which can significantly speed up the execution time.\n",
    "Example:"
   ]
  },
  {
   "cell_type": "code",
   "execution_count": 2,
   "id": "8c9e5709-1859-4420-b574-9e66f0cfe22a",
   "metadata": {},
   "outputs": [
    {
     "name": "stdout",
     "output_type": "stream",
     "text": [
      "[1, 4, 9, 16, 25, 36, 49, 64, 81, 100]\n"
     ]
    }
   ],
   "source": [
    "import multiprocessing\n",
    "\n",
    "def square(x):\n",
    "    \"\"\"A function to square a number\"\"\"\n",
    "    return x ** 2\n",
    "\n",
    "if __name__ == '__main__':\n",
    "    # Create a pool of 4 worker processes\n",
    "    with multiprocessing.Pool(processes=4) as pool:\n",
    "        # Submit a list of tasks to the pool\n",
    "        results = pool.map(square, [1, 2, 3, 4, 5, 6, 7, 8, 9, 10])\n",
    "\n",
    "    # Print the results\n",
    "    print(results)\n"
   ]
  },
  {
   "cell_type": "markdown",
   "id": "ba9080f5-b243-475b-9633-77974aa2977d",
   "metadata": {},
   "source": [
    "In this example, we create a pool of 4 worker processes using the multiprocessing.Pool constructor, and then submit a list of tasks to the pool using the map method. The map method applies the square function to each element in the list, distributing the work among the worker processes. The results are returned as a list, which we print to the console."
   ]
  },
  {
   "cell_type": "markdown",
   "id": "ee331fd2-ca04-4950-ab2a-3613a63ff879",
   "metadata": {},
   "source": [
    "# Q5. How can we create a pool of worker processes in python using the multiprocessing module?"
   ]
  },
  {
   "cell_type": "markdown",
   "id": "bcd5a0ee-f653-4783-ac58-c93ad020e480",
   "metadata": {},
   "source": [
    "# Ans :"
   ]
  },
  {
   "cell_type": "markdown",
   "id": "54263a78-152f-45aa-9d32-bfb1204152ba",
   "metadata": {},
   "source": [
    "In Python, we can create a pool of worker processes using the multiprocessing.Pool class from the multiprocessing module. Here's an example:"
   ]
  },
  {
   "cell_type": "code",
   "execution_count": 3,
   "id": "fefdcae9-3e37-4ecf-b3b9-6efa98190efd",
   "metadata": {},
   "outputs": [
    {
     "name": "stdout",
     "output_type": "stream",
     "text": [
      "[1, 4, 9, 16, 25, 36, 49, 64, 81, 100]\n"
     ]
    }
   ],
   "source": [
    "import multiprocessing\n",
    "\n",
    "def worker(x):\n",
    "    \"\"\"A function to simulate work done by a process\"\"\"\n",
    "    result = x ** 2\n",
    "    return result\n",
    "\n",
    "if __name__ == '__main__':\n",
    "    # Create a pool of 4 worker processes\n",
    "    with multiprocessing.Pool(processes=4) as pool:\n",
    "        # Use the pool to apply the worker function to a list of inputs\n",
    "        results = pool.map(worker, [1, 2, 3, 4, 5, 6, 7, 8, 9, 10])\n",
    "\n",
    "    print(results)\n"
   ]
  },
  {
   "cell_type": "markdown",
   "id": "b9c834a7-bb0f-4bad-8b06-e0100170e792",
   "metadata": {},
   "source": [
    "In this example, we create a pool of 4 worker processes using the multiprocessing.Pool constructor, and then use the map method of the pool to apply the worker function to a list of inputs. The map method distributes the work among the worker processes in the pool and returns the results as a list. Finally, we print the results to the console.\n",
    "\n",
    "Note that the with statement is used here to automatically manage the resources associated with the pool. When the with block is exited, the pool is automatically closed and its worker processes are terminated."
   ]
  },
  {
   "cell_type": "markdown",
   "id": "d82b452b-ca52-43c3-8ab3-c7a972b9de76",
   "metadata": {},
   "source": [
    "# Q6. Write a python program to create 4 processes, each process should print a different number using the multiprocessing module in python."
   ]
  },
  {
   "cell_type": "markdown",
   "id": "cf048cac-1fab-44ca-8545-aff298df096e",
   "metadata": {},
   "source": [
    "# Ans :"
   ]
  },
  {
   "cell_type": "code",
   "execution_count": 5,
   "id": "fcc10eb9-1ef1-4866-89f4-a41ea387f224",
   "metadata": {},
   "outputs": [
    {
     "name": "stdout",
     "output_type": "stream",
     "text": [
      "Process 1 is printing 1\n",
      "Process 2 is printing 2\n",
      "Process 3 is printing 3\n",
      "Process 4 is printing 4\n",
      "All processes finished\n"
     ]
    }
   ],
   "source": [
    "import multiprocessing\n",
    "\n",
    "def print_number(num):\n",
    "    \"\"\"A function to print a number\"\"\"\n",
    "    print(f'Process {num} is printing {num}')\n",
    "\n",
    "if __name__ == '__main__':\n",
    "    # Create 4 processes, each calling the print_number function with a different argument\n",
    "    p1 = multiprocessing.Process(target=print_number, args=(1,))\n",
    "    p2 = multiprocessing.Process(target=print_number, args=(2,))\n",
    "    p3 = multiprocessing.Process(target=print_number, args=(3,))\n",
    "    p4 = multiprocessing.Process(target=print_number, args=(4,))\n",
    "\n",
    "    # Start the processes\n",
    "    p1.start()\n",
    "    p2.start()\n",
    "    p3.start()\n",
    "    p4.start()\n",
    "\n",
    "    # Wait for the processes to finish\n",
    "    p1.join()\n",
    "    p2.join()\n",
    "    p3.join()\n",
    "    p4.join()\n",
    "\n",
    "    print('All processes finished')\n"
   ]
  },
  {
   "cell_type": "markdown",
   "id": "774675a2-f086-4f6b-9a54-a93e62749f1b",
   "metadata": {},
   "source": [
    "In this example, we define a function print_number that takes a number as an argument and prints it. We then create 4 new processes using the multiprocessing.Process constructor, passing in the print_number function as the target and a tuple of arguments to be passed to the function. We start the processes using the start method, wait for them to finish using the join method, and finally print a message indicating that all processes have finished. "
   ]
  },
  {
   "cell_type": "code",
   "execution_count": null,
   "id": "768840f5-00d5-41fd-9b9f-3ff844fee0fe",
   "metadata": {},
   "outputs": [],
   "source": []
  }
 ],
 "metadata": {
  "kernelspec": {
   "display_name": "Python 3 (ipykernel)",
   "language": "python",
   "name": "python3"
  },
  "language_info": {
   "codemirror_mode": {
    "name": "ipython",
    "version": 3
   },
   "file_extension": ".py",
   "mimetype": "text/x-python",
   "name": "python",
   "nbconvert_exporter": "python",
   "pygments_lexer": "ipython3",
   "version": "3.10.8"
  }
 },
 "nbformat": 4,
 "nbformat_minor": 5
}
